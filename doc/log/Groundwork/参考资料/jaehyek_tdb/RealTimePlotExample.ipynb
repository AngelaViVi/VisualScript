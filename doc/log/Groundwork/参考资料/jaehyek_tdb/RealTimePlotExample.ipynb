{
 "cells": [
  {
   "cell_type": "code",
   "execution_count": 1,
   "metadata": {},
   "outputs": [
    {
     "data": {
      "application/javascript": [
       "Jupyter.utils.load_extensions('tdb_ext/main')"
      ],
      "text/plain": [
       "<IPython.core.display.Javascript object>"
      ]
     },
     "metadata": {},
     "output_type": "display_data"
    }
   ],
   "source": [
    "%%javascript\n",
    "Jupyter.utils.load_extensions('tdb_ext/main')"
   ]
  },
  {
   "cell_type": "code",
   "execution_count": 2,
   "metadata": {
    "collapsed": true
   },
   "outputs": [],
   "source": [
    "import tdb\n",
    "from tdb.examples import mnist, viz\n",
    "\n",
    "import matplotlib.pyplot as plt\n",
    "import tensorflow as tf\n",
    "import urllib"
   ]
  },
  {
   "cell_type": "code",
   "execution_count": 3,
   "metadata": {},
   "outputs": [
    {
     "name": "stdout",
     "output_type": "stream",
     "text": [
      "INFO:tensorflow:Summary name Conv2D:0/activations is illegal; using Conv2D_0/activations instead.\n",
      "INFO:tensorflow:Summary name Conv2D:0/sparsity is illegal; using Conv2D_0/sparsity instead.\n",
      "INFO:tensorflow:Summary name dropout/mul:0/activations is illegal; using dropout/mul_0/activations instead.\n",
      "INFO:tensorflow:Summary name dropout/mul:0/sparsity is illegal; using dropout/mul_0/sparsity instead.\n"
     ]
    }
   ],
   "source": [
    "(train_data_node,\n",
    "    train_labels_node,\n",
    "    validation_data_node,\n",
    "    test_data_node,\n",
    "    # predictions\n",
    "    train_prediction,\n",
    "    validation_prediction,\n",
    "    test_prediction,\n",
    "    # weights\n",
    "    conv1_weights,\n",
    "    conv2_weights,\n",
    "    fc1_weights,\n",
    "    fc2_weights,\n",
    "    # training\n",
    "    optimizer,\n",
    "    loss,\n",
    "    learning_rate,\n",
    "    summaries) = mnist.build_model()"
   ]
  },
  {
   "cell_type": "code",
   "execution_count": 4,
   "metadata": {
    "collapsed": true
   },
   "outputs": [],
   "source": [
    "def viz_activations(ctx, m):\n",
    "    plt.matshow(m.T,cmap=plt.cm.gray)\n",
    "    plt.title(\"LeNet Predictions\")\n",
    "    plt.xlabel(\"Batch\")\n",
    "    plt.ylabel(\"Digit Activation\")"
   ]
  },
  {
   "cell_type": "code",
   "execution_count": 5,
   "metadata": {
    "collapsed": true
   },
   "outputs": [],
   "source": [
    "# plotting a user-defined function 'viz_activations'\n",
    "p0=tdb.plot_op(viz_activations,inputs=[train_prediction])\n",
    "# weight variables are of type tf.Variable, so we need to find the corresponding tf.Tensor instead\n",
    "g=tf.get_default_graph()\n",
    "p1=tdb.plot_op(viz.viz_conv_weights,inputs=[g.as_graph_element(conv1_weights)])\n",
    "p2=tdb.plot_op(viz.viz_conv_weights,inputs=[g.as_graph_element(conv2_weights)])\n",
    "p3=tdb.plot_op(viz.viz_fc_weights,inputs=[g.as_graph_element(fc1_weights)])\n",
    "p4=tdb.plot_op(viz.viz_fc_weights,inputs=[g.as_graph_element(fc2_weights)])\n",
    "p2=tdb.plot_op(viz.viz_conv_hist,inputs=[g.as_graph_element(conv1_weights)])\n",
    "ploss=tdb.plot_op(viz.watch_loss,inputs=[loss])"
   ]
  },
  {
   "cell_type": "code",
   "execution_count": 6,
   "metadata": {
    "collapsed": true
   },
   "outputs": [],
   "source": [
    "download_dir='D:/Libraries/Anaconda3/Lib/site-packages/tdb/mnist/'"
   ]
  },
  {
   "cell_type": "code",
   "execution_count": 7,
   "metadata": {},
   "outputs": [
    {
     "name": "stdout",
     "output_type": "stream",
     "text": [
      "Extracting D:/Libraries/Anaconda3/Lib/site-packages/tdb/mnist/train-images-idx3-ubyte.gz\n",
      "Extracting D:/Libraries/Anaconda3/Lib/site-packages/tdb/mnist/train-labels-idx1-ubyte.gz\n",
      "Extracting D:/Libraries/Anaconda3/Lib/site-packages/tdb/mnist/t10k-images-idx3-ubyte.gz\n",
      "Extracting D:/Libraries/Anaconda3/Lib/site-packages/tdb/mnist/t10k-labels-idx1-ubyte.gz\n"
     ]
    }
   ],
   "source": [
    "(train_data, \n",
    " train_labels, \n",
    " validation_data, \n",
    " validation_labels, \n",
    " test_data, \n",
    " test_labels) = mnist.get_data(download_dir)"
   ]
  },
  {
   "cell_type": "code",
   "execution_count": 8,
   "metadata": {
    "collapsed": true
   },
   "outputs": [],
   "source": [
    "s=tf.InteractiveSession()"
   ]
  },
  {
   "cell_type": "code",
   "execution_count": 9,
   "metadata": {
    "collapsed": true
   },
   "outputs": [],
   "source": [
    "tf.global_variables_initializer().run()"
   ]
  },
  {
   "cell_type": "code",
   "execution_count": 10,
   "metadata": {
    "collapsed": true
   },
   "outputs": [],
   "source": [
    "BATCH_SIZE = 64\n",
    "NUM_EPOCHS = 5\n",
    "TRAIN_SIZE=10000"
   ]
  },
  {
   "cell_type": "code",
   "execution_count": 11,
   "metadata": {},
   "outputs": [
    {
     "name": "stdout",
     "output_type": "stream",
     "text": [
      "loss: 29.668478\n",
      "loss: 15.983392\n",
      "loss: 11.277427\n",
      "loss: 10.037968\n",
      "loss: 8.009654\n",
      "loss: 9.452244\n",
      "loss: 7.343087\n",
      "loss: 8.684778\n",
      "loss: 7.493670\n",
      "loss: 8.385438\n",
      "loss: 5.990063\n",
      "loss: 6.083916\n",
      "loss: 7.030327\n",
      "loss: 7.387042\n",
      "loss: 7.319726\n",
      "loss: 8.689103\n",
      "loss: 5.405787\n",
      "loss: 6.614811\n",
      "loss: 4.969201\n",
      "loss: 7.348763\n",
      "loss: 6.312870\n",
      "loss: 7.495793\n",
      "loss: 5.615681\n",
      "loss: 4.964808\n",
      "loss: 6.498817\n",
      "loss: 7.321978\n",
      "loss: 7.694906\n",
      "loss: 6.689505\n",
      "loss: 9.819473\n",
      "loss: 5.909233\n",
      "loss: 6.103796\n",
      "loss: 4.672128\n",
      "loss: 5.143344\n",
      "loss: 9.482080\n",
      "loss: 5.728528\n",
      "loss: 5.145389\n",
      "loss: 6.681513\n",
      "loss: 5.118237\n",
      "loss: 6.868176\n",
      "loss: 5.771379\n",
      "loss: 7.641147\n",
      "loss: 7.576725\n",
      "loss: 7.719792\n",
      "loss: 6.860084\n",
      "loss: 5.948696\n",
      "loss: 7.772453\n",
      "loss: 7.274132\n",
      "loss: 7.187099\n",
      "loss: 7.307441\n",
      "loss: 4.173453\n",
      "loss: 6.738443\n",
      "loss: 7.492995\n",
      "loss: 9.151903\n",
      "loss: 6.800222\n",
      "loss: 6.876224\n",
      "loss: 6.776086\n",
      "loss: 5.224159\n",
      "loss: 9.173109\n",
      "loss: 7.475163\n",
      "loss: 7.104166\n",
      "loss: 5.286732\n",
      "loss: 7.470814\n",
      "loss: 6.269063\n",
      "loss: 5.695951\n",
      "loss: 6.927042\n",
      "loss: 5.869174\n",
      "loss: 6.234964\n",
      "loss: 5.390285\n",
      "loss: 4.892434\n",
      "loss: 6.836699\n",
      "loss: 4.963217\n",
      "loss: 5.611260\n",
      "loss: 6.516751\n",
      "loss: 7.014503\n",
      "loss: 6.468558\n",
      "loss: 5.595420\n",
      "loss: 5.806753\n",
      "loss: 6.833010\n",
      "loss: 5.521898\n"
     ]
    }
   ],
   "source": [
    "for step in range(NUM_EPOCHS * TRAIN_SIZE // BATCH_SIZE):\n",
    "    offset = (step * BATCH_SIZE) % (TRAIN_SIZE - BATCH_SIZE)\n",
    "    batch_data = train_data[offset:(offset + BATCH_SIZE), :, :, :]\n",
    "    batch_labels = train_labels[offset:(offset + BATCH_SIZE)]\n",
    "    feed_dict = {\n",
    "        train_data_node: batch_data,\n",
    "        train_labels_node: batch_labels\n",
    "    }\n",
    "    # run training node and visualization node\n",
    "    status,result=tdb.debug([optimizer,p0], feed_dict=feed_dict, session=s)\n",
    "    if step % 10 == 0:  \n",
    "        status,result=tdb.debug([loss,p1,p2,p3,p4,ploss], feed_dict=feed_dict, breakpoints=None, break_immediately=False, session=s)\n",
    "        print('loss: %f' % (result[0]))"
   ]
  },
  {
   "cell_type": "code",
   "execution_count": null,
   "metadata": {
    "collapsed": true
   },
   "outputs": [],
   "source": []
  }
 ],
 "metadata": {
  "kernelspec": {
   "display_name": "Python 3",
   "language": "python",
   "name": "python3"
  },
  "language_info": {
   "codemirror_mode": {
    "name": "ipython",
    "version": 3
   },
   "file_extension": ".py",
   "mimetype": "text/x-python",
   "name": "python",
   "nbconvert_exporter": "python",
   "pygments_lexer": "ipython3",
   "version": "3.6.1"
  }
 },
 "nbformat": 4,
 "nbformat_minor": 2
}
